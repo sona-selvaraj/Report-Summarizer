{
 "cells": [
  {
   "cell_type": "markdown",
   "id": "6f6f35ee",
   "metadata": {},
   "source": [
    "# GENERATIVE AI - REPORT SUMMARIZATION "
   ]
  },
  {
   "cell_type": "code",
   "execution_count": 7,
   "id": "ae38914d",
   "metadata": {},
   "outputs": [
    {
     "name": "stdout",
     "output_type": "stream",
     "text": [
      "Collecting transformers\n",
      "  Downloading transformers-4.41.1-py3-none-any.whl (9.1 MB)\n",
      "Collecting tokenizers<0.20,>=0.19\n",
      "  Downloading tokenizers-0.19.1-cp39-none-win_amd64.whl (2.2 MB)\n",
      "Requirement already satisfied: numpy>=1.17 in c:\\users\\sona\\appdata\\local\\programs\\python\\python39\\lib\\site-packages (from transformers) (1.23.3)\n",
      "Requirement already satisfied: regex!=2019.12.17 in c:\\users\\sona\\appdata\\local\\programs\\python\\python39\\lib\\site-packages (from transformers) (2022.9.13)\n",
      "Requirement already satisfied: packaging>=20.0 in c:\\users\\sona\\appdata\\local\\programs\\python\\python39\\lib\\site-packages (from transformers) (21.3)\n",
      "Collecting safetensors>=0.4.1\n",
      "  Downloading safetensors-0.4.3-cp39-none-win_amd64.whl (287 kB)\n",
      "Requirement already satisfied: pyyaml>=5.1 in c:\\users\\sona\\appdata\\local\\programs\\python\\python39\\lib\\site-packages (from transformers) (6.0)\n",
      "Requirement already satisfied: huggingface-hub<1.0,>=0.23.0 in c:\\users\\sona\\appdata\\local\\programs\\python\\python39\\lib\\site-packages (from transformers) (0.23.1)\n",
      "Requirement already satisfied: tqdm>=4.27 in c:\\users\\sona\\appdata\\local\\programs\\python\\python39\\lib\\site-packages (from transformers) (4.64.0)\n",
      "Requirement already satisfied: filelock in c:\\users\\sona\\appdata\\local\\programs\\python\\python39\\lib\\site-packages (from transformers) (3.7.1)\n",
      "Requirement already satisfied: requests in c:\\users\\sona\\appdata\\local\\programs\\python\\python39\\lib\\site-packages (from transformers) (2.28.1)\n",
      "Requirement already satisfied: typing-extensions>=3.7.4.3 in c:\\users\\sona\\appdata\\local\\programs\\python\\python39\\lib\\site-packages (from huggingface-hub<1.0,>=0.23.0->transformers) (4.11.0)\n",
      "Requirement already satisfied: fsspec>=2023.5.0 in c:\\users\\sona\\appdata\\local\\programs\\python\\python39\\lib\\site-packages (from huggingface-hub<1.0,>=0.23.0->transformers) (2024.3.1)\n",
      "Requirement already satisfied: pyparsing!=3.0.5,>=2.0.2 in c:\\users\\sona\\appdata\\local\\programs\\python\\python39\\lib\\site-packages (from packaging>=20.0->transformers) (3.0.9)\n",
      "Requirement already satisfied: colorama in c:\\users\\sona\\appdata\\local\\programs\\python\\python39\\lib\\site-packages (from tqdm>=4.27->transformers) (0.4.5)\n",
      "Requirement already satisfied: idna<4,>=2.5 in c:\\users\\sona\\appdata\\local\\programs\\python\\python39\\lib\\site-packages (from requests->transformers) (3.4)\n",
      "Requirement already satisfied: urllib3<1.27,>=1.21.1 in c:\\users\\sona\\appdata\\local\\programs\\python\\python39\\lib\\site-packages (from requests->transformers) (1.26.12)\n",
      "Requirement already satisfied: charset-normalizer<3,>=2 in c:\\users\\sona\\appdata\\local\\programs\\python\\python39\\lib\\site-packages (from requests->transformers) (2.1.1)\n",
      "Requirement already satisfied: certifi>=2017.4.17 in c:\\users\\sona\\appdata\\local\\programs\\python\\python39\\lib\\site-packages (from requests->transformers) (2022.9.24)\n",
      "Installing collected packages: tokenizers, safetensors, transformers\n",
      "Successfully installed safetensors-0.4.3 tokenizers-0.19.1 transformers-4.41.1\n"
     ]
    },
    {
     "name": "stderr",
     "output_type": "stream",
     "text": [
      "WARNING: You are using pip version 21.1.3; however, version 24.0 is available.\n",
      "You should consider upgrading via the 'c:\\users\\sona\\appdata\\local\\programs\\python\\python39\\python.exe -m pip install --upgrade pip' command.\n"
     ]
    },
    {
     "name": "stdout",
     "output_type": "stream",
     "text": [
      "Requirement already satisfied: datasets in c:\\users\\sona\\appdata\\local\\programs\\python\\python39\\lib\\site-packages (2.19.1)\n",
      "Requirement already satisfied: numpy>=1.17 in c:\\users\\sona\\appdata\\local\\programs\\python\\python39\\lib\\site-packages (from datasets) (1.23.3)\n",
      "Requirement already satisfied: dill<0.3.9,>=0.3.0 in c:\\users\\sona\\appdata\\local\\programs\\python\\python39\\lib\\site-packages (from datasets) (0.3.8)\n",
      "Requirement already satisfied: pyyaml>=5.1 in c:\\users\\sona\\appdata\\local\\programs\\python\\python39\\lib\\site-packages (from datasets) (6.0)\n",
      "Requirement already satisfied: multiprocess in c:\\users\\sona\\appdata\\local\\programs\\python\\python39\\lib\\site-packages (from datasets) (0.70.16)\n",
      "Requirement already satisfied: pyarrow-hotfix in c:\\users\\sona\\appdata\\local\\programs\\python\\python39\\lib\\site-packages (from datasets) (0.6)\n",
      "Requirement already satisfied: aiohttp in c:\\users\\sona\\appdata\\local\\programs\\python\\python39\\lib\\site-packages (from datasets) (3.9.5)\n",
      "Requirement already satisfied: pyarrow>=12.0.0 in c:\\users\\sona\\appdata\\local\\programs\\python\\python39\\lib\\site-packages (from datasets) (16.1.0)\n",
      "Requirement already satisfied: tqdm>=4.62.1 in c:\\users\\sona\\appdata\\local\\programs\\python\\python39\\lib\\site-packages (from datasets) (4.64.0)\n",
      "Requirement already satisfied: packaging in c:\\users\\sona\\appdata\\local\\programs\\python\\python39\\lib\\site-packages (from datasets) (21.3)\n",
      "Requirement already satisfied: pandas in c:\\users\\sona\\appdata\\local\\programs\\python\\python39\\lib\\site-packages (from datasets) (1.4.3)\n",
      "Requirement already satisfied: requests>=2.19.0 in c:\\users\\sona\\appdata\\local\\programs\\python\\python39\\lib\\site-packages (from datasets) (2.28.1)\n",
      "Requirement already satisfied: fsspec[http]<=2024.3.1,>=2023.1.0 in c:\\users\\sona\\appdata\\local\\programs\\python\\python39\\lib\\site-packages (from datasets) (2024.3.1)\n",
      "Requirement already satisfied: huggingface-hub>=0.21.2 in c:\\users\\sona\\appdata\\local\\programs\\python\\python39\\lib\\site-packages (from datasets) (0.23.1)\n",
      "Requirement already satisfied: filelock in c:\\users\\sona\\appdata\\local\\programs\\python\\python39\\lib\\site-packages (from datasets) (3.7.1)\n",
      "Requirement already satisfied: xxhash in c:\\users\\sona\\appdata\\local\\programs\\python\\python39\\lib\\site-packages (from datasets) (3.4.1)\n",
      "Requirement already satisfied: multidict<7.0,>=4.5 in c:\\users\\sona\\appdata\\local\\programs\\python\\python39\\lib\\site-packages (from aiohttp->datasets) (6.0.5)\n",
      "Requirement already satisfied: async-timeout<5.0,>=4.0 in c:\\users\\sona\\appdata\\local\\programs\\python\\python39\\lib\\site-packages (from aiohttp->datasets) (4.0.3)\n",
      "Requirement already satisfied: frozenlist>=1.1.1 in c:\\users\\sona\\appdata\\local\\programs\\python\\python39\\lib\\site-packages (from aiohttp->datasets) (1.4.1)\n",
      "Requirement already satisfied: attrs>=17.3.0 in c:\\users\\sona\\appdata\\local\\programs\\python\\python39\\lib\\site-packages (from aiohttp->datasets) (22.1.0)\n",
      "Requirement already satisfied: aiosignal>=1.1.2 in c:\\users\\sona\\appdata\\local\\programs\\python\\python39\\lib\\site-packages (from aiohttp->datasets) (1.3.1)\n",
      "Requirement already satisfied: yarl<2.0,>=1.0 in c:\\users\\sona\\appdata\\local\\programs\\python\\python39\\lib\\site-packages (from aiohttp->datasets) (1.9.4)\n",
      "Requirement already satisfied: typing-extensions>=3.7.4.3 in c:\\users\\sona\\appdata\\local\\programs\\python\\python39\\lib\\site-packages (from huggingface-hub>=0.21.2->datasets) (4.11.0)\n",
      "Requirement already satisfied: pyparsing!=3.0.5,>=2.0.2 in c:\\users\\sona\\appdata\\local\\programs\\python\\python39\\lib\\site-packages (from packaging->datasets) (3.0.9)\n",
      "Requirement already satisfied: urllib3<1.27,>=1.21.1 in c:\\users\\sona\\appdata\\local\\programs\\python\\python39\\lib\\site-packages (from requests>=2.19.0->datasets) (1.26.12)\n",
      "Requirement already satisfied: certifi>=2017.4.17 in c:\\users\\sona\\appdata\\local\\programs\\python\\python39\\lib\\site-packages (from requests>=2.19.0->datasets) (2022.9.24)\n",
      "Requirement already satisfied: charset-normalizer<3,>=2 in c:\\users\\sona\\appdata\\local\\programs\\python\\python39\\lib\\site-packages (from requests>=2.19.0->datasets) (2.1.1)\n",
      "Requirement already satisfied: idna<4,>=2.5 in c:\\users\\sona\\appdata\\local\\programs\\python\\python39\\lib\\site-packages (from requests>=2.19.0->datasets) (3.4)\n",
      "Requirement already satisfied: colorama in c:\\users\\sona\\appdata\\local\\programs\\python\\python39\\lib\\site-packages (from tqdm>=4.62.1->datasets) (0.4.5)\n",
      "Requirement already satisfied: python-dateutil>=2.8.1 in c:\\users\\sona\\appdata\\local\\programs\\python\\python39\\lib\\site-packages (from pandas->datasets) (2.8.2)\n",
      "Requirement already satisfied: pytz>=2020.1 in c:\\users\\sona\\appdata\\local\\programs\\python\\python39\\lib\\site-packages (from pandas->datasets) (2022.5)\n",
      "Requirement already satisfied: six>=1.5 in c:\\users\\sona\\appdata\\local\\programs\\python\\python39\\lib\\site-packages (from python-dateutil>=2.8.1->pandas->datasets) (1.16.0)\n"
     ]
    },
    {
     "name": "stderr",
     "output_type": "stream",
     "text": [
      "WARNING: You are using pip version 21.1.3; however, version 24.0 is available.\n",
      "You should consider upgrading via the 'c:\\users\\sona\\appdata\\local\\programs\\python\\python39\\python.exe -m pip install --upgrade pip' command.\n"
     ]
    },
    {
     "name": "stdout",
     "output_type": "stream",
     "text": [
      "Requirement already satisfied: torch in c:\\users\\sona\\appdata\\local\\programs\\python\\python39\\lib\\site-packages (2.3.0)\n",
      "Requirement already satisfied: networkx in c:\\users\\sona\\appdata\\local\\programs\\python\\python39\\lib\\site-packages (from torch) (2.8.7)\n",
      "Requirement already satisfied: typing-extensions>=4.8.0 in c:\\users\\sona\\appdata\\local\\programs\\python\\python39\\lib\\site-packages (from torch) (4.11.0)\n",
      "Requirement already satisfied: sympy in c:\\users\\sona\\appdata\\local\\programs\\python\\python39\\lib\\site-packages (from torch) (1.12)\n",
      "Requirement already satisfied: jinja2 in c:\\users\\sona\\appdata\\local\\programs\\python\\python39\\lib\\site-packages (from torch) (3.1.2)\n",
      "Requirement already satisfied: filelock in c:\\users\\sona\\appdata\\local\\programs\\python\\python39\\lib\\site-packages (from torch) (3.7.1)\n",
      "Requirement already satisfied: fsspec in c:\\users\\sona\\appdata\\local\\programs\\python\\python39\\lib\\site-packages (from torch) (2024.3.1)\n",
      "Requirement already satisfied: mkl<=2021.4.0,>=2021.1.1 in c:\\users\\sona\\appdata\\local\\programs\\python\\python39\\lib\\site-packages (from torch) (2021.4.0)\n",
      "Requirement already satisfied: tbb==2021.* in c:\\users\\sona\\appdata\\local\\programs\\python\\python39\\lib\\site-packages (from mkl<=2021.4.0,>=2021.1.1->torch) (2021.12.0)\n",
      "Requirement already satisfied: intel-openmp==2021.* in c:\\users\\sona\\appdata\\local\\programs\\python\\python39\\lib\\site-packages (from mkl<=2021.4.0,>=2021.1.1->torch) (2021.4.0)\n",
      "Requirement already satisfied: MarkupSafe>=2.0 in c:\\users\\sona\\appdata\\local\\programs\\python\\python39\\lib\\site-packages (from jinja2->torch) (2.1.1)\n",
      "Requirement already satisfied: mpmath>=0.19 in c:\\users\\sona\\appdata\\local\\programs\\python\\python39\\lib\\site-packages (from sympy->torch) (1.3.0)\n"
     ]
    },
    {
     "name": "stderr",
     "output_type": "stream",
     "text": [
      "WARNING: You are using pip version 21.1.3; however, version 24.0 is available.\n",
      "You should consider upgrading via the 'c:\\users\\sona\\appdata\\local\\programs\\python\\python39\\python.exe -m pip install --upgrade pip' command.\n"
     ]
    },
    {
     "name": "stdout",
     "output_type": "stream",
     "text": [
      "Requirement already satisfied: torchdata in c:\\users\\sona\\appdata\\local\\programs\\python\\python39\\lib\\site-packages (0.7.1)\n",
      "Requirement already satisfied: torch>=2 in c:\\users\\sona\\appdata\\local\\programs\\python\\python39\\lib\\site-packages (from torchdata) (2.3.0)\n",
      "Requirement already satisfied: requests in c:\\users\\sona\\appdata\\local\\programs\\python\\python39\\lib\\site-packages (from torchdata) (2.28.1)\n",
      "Requirement already satisfied: urllib3>=1.25 in c:\\users\\sona\\appdata\\local\\programs\\python\\python39\\lib\\site-packages (from torchdata) (1.26.12)\n",
      "Requirement already satisfied: jinja2 in c:\\users\\sona\\appdata\\local\\programs\\python\\python39\\lib\\site-packages (from torch>=2->torchdata) (3.1.2)\n",
      "Requirement already satisfied: typing-extensions>=4.8.0 in c:\\users\\sona\\appdata\\local\\programs\\python\\python39\\lib\\site-packages (from torch>=2->torchdata) (4.11.0)\n",
      "Requirement already satisfied: mkl<=2021.4.0,>=2021.1.1 in c:\\users\\sona\\appdata\\local\\programs\\python\\python39\\lib\\site-packages (from torch>=2->torchdata) (2021.4.0)\n",
      "Requirement already satisfied: fsspec in c:\\users\\sona\\appdata\\local\\programs\\python\\python39\\lib\\site-packages (from torch>=2->torchdata) (2024.3.1)\n",
      "Requirement already satisfied: filelock in c:\\users\\sona\\appdata\\local\\programs\\python\\python39\\lib\\site-packages (from torch>=2->torchdata) (3.7.1)\n",
      "Requirement already satisfied: sympy in c:\\users\\sona\\appdata\\local\\programs\\python\\python39\\lib\\site-packages (from torch>=2->torchdata) (1.12)\n",
      "Requirement already satisfied: networkx in c:\\users\\sona\\appdata\\local\\programs\\python\\python39\\lib\\site-packages (from torch>=2->torchdata) (2.8.7)\n",
      "Requirement already satisfied: tbb==2021.* in c:\\users\\sona\\appdata\\local\\programs\\python\\python39\\lib\\site-packages (from mkl<=2021.4.0,>=2021.1.1->torch>=2->torchdata) (2021.12.0)\n",
      "Requirement already satisfied: intel-openmp==2021.* in c:\\users\\sona\\appdata\\local\\programs\\python\\python39\\lib\\site-packages (from mkl<=2021.4.0,>=2021.1.1->torch>=2->torchdata) (2021.4.0)\n",
      "Requirement already satisfied: MarkupSafe>=2.0 in c:\\users\\sona\\appdata\\local\\programs\\python\\python39\\lib\\site-packages (from jinja2->torch>=2->torchdata) (2.1.1)\n",
      "Requirement already satisfied: idna<4,>=2.5 in c:\\users\\sona\\appdata\\local\\programs\\python\\python39\\lib\\site-packages (from requests->torchdata) (3.4)\n",
      "Requirement already satisfied: charset-normalizer<3,>=2 in c:\\users\\sona\\appdata\\local\\programs\\python\\python39\\lib\\site-packages (from requests->torchdata) (2.1.1)\n",
      "Requirement already satisfied: certifi>=2017.4.17 in c:\\users\\sona\\appdata\\local\\programs\\python\\python39\\lib\\site-packages (from requests->torchdata) (2022.9.24)\n",
      "Requirement already satisfied: mpmath>=0.19 in c:\\users\\sona\\appdata\\local\\programs\\python\\python39\\lib\\site-packages (from sympy->torch>=2->torchdata) (1.3.0)\n"
     ]
    },
    {
     "name": "stderr",
     "output_type": "stream",
     "text": [
      "WARNING: You are using pip version 21.1.3; however, version 24.0 is available.\n",
      "You should consider upgrading via the 'c:\\users\\sona\\appdata\\local\\programs\\python\\python39\\python.exe -m pip install --upgrade pip' command.\n"
     ]
    }
   ],
   "source": [
    "!pip install transformers\n",
    "!pip install datasets\n",
    "!pip install torch\n",
    "!pip install torchdata"
   ]
  },
  {
   "cell_type": "markdown",
   "id": "66bf1426",
   "metadata": {},
   "source": [
    "Loading datasets, LLM, tokenizer and configurator"
   ]
  },
  {
   "cell_type": "code",
   "execution_count": 8,
   "id": "46f79ccb",
   "metadata": {},
   "outputs": [],
   "source": [
    "from datasets import load_dataset\n",
    "from transformers import AutoModelForSeq2SeqLM\n",
    "from transformers import AutoTokenizer\n",
    "from transformers import GenerationConfig"
   ]
  },
  {
   "cell_type": "code",
   "execution_count": 9,
   "id": "0ebe39ee",
   "metadata": {},
   "outputs": [],
   "source": [
    "import numpy as np\n",
    "import pandas as pd"
   ]
  },
  {
   "cell_type": "code",
   "execution_count": 17,
   "id": "b52321ef",
   "metadata": {},
   "outputs": [
    {
     "data": {
      "application/json": {
       "ascii": false,
       "bar_format": null,
       "colour": null,
       "elapsed": 0.01837754249572754,
       "initial": 0,
       "n": 0,
       "ncols": null,
       "nrows": 29,
       "postfix": null,
       "prefix": "Downloading data",
       "rate": null,
       "total": 16700166,
       "unit": "B",
       "unit_divisor": 1000,
       "unit_scale": true
      },
      "application/vnd.jupyter.widget-view+json": {
       "model_id": "62cdaeb2fe4a4328be71a5802e6f6e09",
       "version_major": 2,
       "version_minor": 0
      },
      "text/plain": [
       "Downloading data:   0%|          | 0.00/16.7M [00:00<?, ?B/s]"
      ]
     },
     "metadata": {},
     "output_type": "display_data"
    },
    {
     "data": {
      "application/json": {
       "ascii": false,
       "bar_format": null,
       "colour": null,
       "elapsed": 0.07199764251708984,
       "initial": 0,
       "n": 0,
       "ncols": null,
       "nrows": 29,
       "postfix": null,
       "prefix": "Downloading data",
       "rate": null,
       "total": 16996189,
       "unit": "B",
       "unit_divisor": 1000,
       "unit_scale": true
      },
      "application/vnd.jupyter.widget-view+json": {
       "model_id": "45fb353a5c1840dc97a3c20991b56ad1",
       "version_major": 2,
       "version_minor": 0
      },
      "text/plain": [
       "Downloading data:   0%|          | 0.00/17.0M [00:00<?, ?B/s]"
      ]
     },
     "metadata": {},
     "output_type": "display_data"
    },
    {
     "data": {
      "application/json": {
       "ascii": false,
       "bar_format": null,
       "colour": null,
       "elapsed": 0.0822896957397461,
       "initial": 0,
       "n": 0,
       "ncols": null,
       "nrows": 29,
       "postfix": null,
       "prefix": "Generating train split",
       "rate": null,
       "total": 204045,
       "unit": " examples",
       "unit_divisor": 1000,
       "unit_scale": false
      },
      "application/vnd.jupyter.widget-view+json": {
       "model_id": "f1b15433fc954e9b8e0e4eecf9353ebf",
       "version_major": 2,
       "version_minor": 0
      },
      "text/plain": [
       "Generating train split:   0%|          | 0/204045 [00:00<?, ? examples/s]"
      ]
     },
     "metadata": {},
     "output_type": "display_data"
    },
    {
     "data": {
      "application/json": {
       "ascii": false,
       "bar_format": null,
       "colour": null,
       "elapsed": 0.034361839294433594,
       "initial": 0,
       "n": 0,
       "ncols": null,
       "nrows": 29,
       "postfix": null,
       "prefix": "Generating validation split",
       "rate": null,
       "total": 11332,
       "unit": " examples",
       "unit_divisor": 1000,
       "unit_scale": false
      },
      "application/vnd.jupyter.widget-view+json": {
       "model_id": "b95f3851068b4d7bbd98a41a8a7f85db",
       "version_major": 2,
       "version_minor": 0
      },
      "text/plain": [
       "Generating validation split:   0%|          | 0/11332 [00:00<?, ? examples/s]"
      ]
     },
     "metadata": {},
     "output_type": "display_data"
    },
    {
     "data": {
      "application/json": {
       "ascii": false,
       "bar_format": null,
       "colour": null,
       "elapsed": 0.040589332580566406,
       "initial": 0,
       "n": 0,
       "ncols": null,
       "nrows": 29,
       "postfix": null,
       "prefix": "Generating test split",
       "rate": null,
       "total": 11334,
       "unit": " examples",
       "unit_divisor": 1000,
       "unit_scale": false
      },
      "application/vnd.jupyter.widget-view+json": {
       "model_id": "6ce4186f8db948f0bb31d98b89d638b8",
       "version_major": 2,
       "version_minor": 0
      },
      "text/plain": [
       "Generating test split:   0%|          | 0/11334 [00:00<?, ? examples/s]"
      ]
     },
     "metadata": {},
     "output_type": "display_data"
    }
   ],
   "source": [
    "dataset_name = 'EdinburghNLP/xsum'\n",
    "ds = load_dataset(dataset_name)"
   ]
  },
  {
   "cell_type": "code",
   "execution_count": 18,
   "id": "5663a5c9",
   "metadata": {},
   "outputs": [
    {
     "name": "stdout",
     "output_type": "stream",
     "text": [
      "---------------------------------------------------------------------------------------------------\n",
      "Example  1\n",
      "---------------------------------------------------------------------------------------------------\n",
      "INPUT REPORT:\n",
      "But one nation, Russia, was missing.\n",
      "For the first time in Eurovision history, the host nation barred another country's singer.\n",
      "That is because in 2015, in violation of Ukrainian border rules, Russia's Julia Samoilova performed in Crimea, the Ukrainian peninsula annexed by Russia a year earlier.\n",
      "Samoilova suffers from a neural muscular disorder and has used a wheelchair since childhood.\n",
      "\"When the rumours began I might not go, I was so sad,\" she told the BBC in Moscow. \"I thought, how come? This was my dream. When the final decision was taken I didn't believe it. But unfortunately, this is the reality.\"\n",
      "\"I think it's a stupid reaction,\" Russian MP Vitaly Milonov tells me. \"They're even afraid of such a small girl to enter Kiev.\"\n",
      "Even before Ukraine's ban, Mr Milonov had called for a Russian boycott of Eurovision: \"Eurovision became a disgusting socialist nightmare for all these left-wing parties with all their bearded women, or men, with these anti-Christian positions.\n",
      "\"I am sure that most conservatives in the world will never attend this festival. Because this is a festival of Sodom and Gomorrah.\"\n",
      "It is supposed to be a festival of peace and friendship but there is not much sign of either in relations between Kiev and Moscow.\n",
      "In eastern Ukraine, 10,000 people have been killed in three years of war: a war in which Russia is directly involved through its military support for separatist rebels. Crimea remains a source of tension and Eurovision is the latest battleground.\n",
      "\"Since 2014, we've had a law in Ukraine that punishes people who illegally cross our border when they visit Crimea,\" says Ukrainian MP Olha Chervakova.\n",
      "\"Did Russia know this? Of course. Did Russia know that Julia Samoilova would fall foul of this law? Of course. In other words, entering her in the contest was a conscious provocation to create a huge political scandal.\"\n",
      "The ban created a huge headache for Eurovision organisers, the European Broadcasting Union (EBU).\n",
      "Eurovision's Executive Supervisor Jon Ola Sand said in March that Ukraine's decision went \"against both the spirit of the contest and the notion of inclusivity that lies at the heart of its values\".\n",
      "In an unprecedented move, the EBU offered Russia the chance to take part by satellite from Moscow.\n",
      "Russia declined: after the dramas of last year's Eurovision, Moscow was in no mood to compromise.\n",
      "Ukraine's 2016 winning entry, 1944, sung by Jamala, was about Joseph Stalin's deportation of Crimea's Tatar population.\n",
      "Russia had argued that Jamala's song broke contest rules for being of a political nature. When it won, Moscow cried foul and said there was politics at play. Now Russia seems determined to make not only Ukraine look bad, but the entire Eurovision Song Contest.\n",
      "When strangers are coming, they come to your house, they kill you and say 'we're not guilty'\n",
      "Recently, two Russian pranksters - posing as Ukraine's prime minister and his assistant - released online a telephone conversation they had recorded with a woman they claimed was EBU Director General Ingrid Deltenre.\n",
      "If this is the voice of the EBU's top official, it is hugely embarrassing for the EBU, because the woman on the recording makes an astonishing admission about Ukraine's winning song: \"I was just too late made aware of the song.\n",
      "\"If I would have been earlier, and I think it was on purpose, I would have not allowed the song to participate, to be very transparent.\"\n",
      "In a statement, the EBU said it would \"not comment on prank calls\".\n",
      "But these are high-profile Russian pranksters, who once fooled Elton John into thinking he was talking to Russian President Vladimir Putin.\n",
      "\"Now our people don't trust Eurovision any more,\" one of the pranksters, Alexei, told me. \"People understand that any country can use their political goals to win, so it's not a fair contest anymore.\"\n",
      "Perhaps this is not just about a song contest? Or Russia's relations with Ukraine?\n",
      "Equating Eurovision with Sodom and Gomorrah and embarrassing the EBU appear part of a wider pattern of Russia trying to undermine Western institutions and Western liberal ideas.\n",
      "\"Russia now defines itself in its social and societal model against the West,\" believes Jan Techau of the Richard Holbrooke Forum at the American Academy in Berlin. \"The Kremlin explicitly portrays Russian society as a counter model to the corrupted West. They seem now to buy completely into the idea that whatever harms the West is good for Russia: a classic zero-sum game.\"\n",
      "In the run-up to this year's contest, singer Jamala warned that \"we should expect more provocations [from Russia] because our victory hurt them a lot.\"\n",
      "Security in Kiev is tight ahead of the first semi-final.\n",
      "As for Julia Samoilova, instead of singing at Eurovision this week, she will be performing - once again - in Crimea. Another political message from Moscow, to Kiev and to Europe.\n",
      "---------------------------------------------------------------------------------------------------\n",
      "HUMAN SUMMARY:\n",
      "Performers from 42 countries strode down a long red carpet near Ukraine's parliament this week, as a curtain-raiser to this year's Eurovision Song Contest.\n",
      "---------------------------------------------------------------------------------------------------\n",
      "\n",
      "---------------------------------------------------------------------------------------------------\n",
      "Example  2\n",
      "---------------------------------------------------------------------------------------------------\n",
      "INPUT REPORT:\n",
      "The film, written by JK Rowling and starring Eddie Redmayne as Newt Scamander, took a total of £15.3m.\n",
      "It is the third highest opening weekend from the JK Rowling series, behind the two final Harry Potter films.\n",
      "Warner Bros executive Josh Berger said: \"We are thrilled with the huge response from British and Irish audiences.\"\n",
      "The film also worked its magic at North American cinemas, taking an estimated $75m (£61m) over the weekend - more than the rest of the US box office top 10 combined.\n",
      "Harry Potter creator Rowling has planned scripts for a total of five films in the series.\n",
      "The first instalment is set in New York, and tells the story of a fictional author mentioned in the Potter stories.\n",
      "Redmayne plays the part of the animal-loving magizoologist Newt Scamander, who visits New York's secret community of witches and wizards.\n",
      "The film is set 70 years before Harry Potter reads his book at his school, Hogwarts.\n",
      "It has received broadly positive reviews from critics.\n",
      "The opening weekend haul in the US and Canada was lower than for any of the Harry Potter films, however.\n",
      "Elsewhere in the box office charts, Benedict Cumberbatch's Doctor Strange fell to second with $17.7m (£14.3m), with Trolls third on $17.5m (£14.1m).\n",
      "Sci-fi movie Arrival, starring Amy Adams, took fourth spot with $11.8m (£9.5m), while the comedy Almost Christmas, starring Danny Glover and Gabrielle Union, rounded out the top five with $7m (£5.7m).\n",
      "Follow us on Facebook, on Twitter @BBCNewsEnts, or on Instagram at bbcnewsents. If you have a story suggestion email entertainment.news@bbc.co.uk.\n",
      "---------------------------------------------------------------------------------------------------\n",
      "HUMAN SUMMARY:\n",
      "Harry Potter spin-off Fantastic Beasts and Where To Find Them has had the biggest UK box office opening weekend of the year so far.\n",
      "---------------------------------------------------------------------------------------------------\n",
      "\n"
     ]
    }
   ],
   "source": [
    "example_indices = [40, 200]\n",
    "\n",
    "dash_line = '-'.join('' for x in range(100))\n",
    "\n",
    "for i, index in enumerate(example_indices):\n",
    "    print(dash_line)\n",
    "    print('Example ', i + 1)\n",
    "    print(dash_line)\n",
    "    print('INPUT REPORT:')\n",
    "    print(ds['test'][index]['document'])\n",
    "    print(dash_line)\n",
    "    print('HUMAN SUMMARY:')\n",
    "    print(ds['test'][index]['summary'])\n",
    "    print(dash_line)\n",
    "    print()"
   ]
  },
  {
   "cell_type": "markdown",
   "id": "8c98df23",
   "metadata": {},
   "source": [
    "Load the FLAN-T5 model, creating an instance of the AutoModelForSeq2SeqLM class with the .from_pretrained() method."
   ]
  },
  {
   "cell_type": "code",
   "execution_count": 19,
   "id": "cfd99c66",
   "metadata": {},
   "outputs": [
    {
     "data": {
      "application/json": {
       "ascii": false,
       "bar_format": null,
       "colour": null,
       "elapsed": 0.06768369674682617,
       "initial": 0,
       "n": 0,
       "ncols": null,
       "nrows": 29,
       "postfix": null,
       "prefix": "config.json",
       "rate": null,
       "total": 1401,
       "unit": "B",
       "unit_divisor": 1000,
       "unit_scale": true
      },
      "application/vnd.jupyter.widget-view+json": {
       "model_id": "61ccfe8bad4641529d7a56193bec67d1",
       "version_major": 2,
       "version_minor": 0
      },
      "text/plain": [
       "config.json:   0%|          | 0.00/1.40k [00:00<?, ?B/s]"
      ]
     },
     "metadata": {},
     "output_type": "display_data"
    },
    {
     "name": "stderr",
     "output_type": "stream",
     "text": [
      "c:\\users\\sona\\appdata\\local\\programs\\python\\python39\\lib\\site-packages\\huggingface_hub\\file_download.py:157: UserWarning: `huggingface_hub` cache-system uses symlinks by default to efficiently store duplicated files but your machine does not support them in C:\\Users\\Sona\\.cache\\huggingface\\hub\\models--google--flan-t5-small. Caching files will still work but in a degraded version that might require more space on your disk. This warning can be disabled by setting the `HF_HUB_DISABLE_SYMLINKS_WARNING` environment variable. For more details, see https://huggingface.co/docs/huggingface_hub/how-to-cache#limitations.\n",
      "To support symlinks on Windows, you either need to activate Developer Mode or to run Python as an administrator. In order to see activate developer mode, see this article: https://docs.microsoft.com/en-us/windows/apps/get-started/enable-your-device-for-development\n",
      "  warnings.warn(message)\n"
     ]
    },
    {
     "data": {
      "application/json": {
       "ascii": false,
       "bar_format": null,
       "colour": null,
       "elapsed": 0.06294488906860352,
       "initial": 0,
       "n": 0,
       "ncols": null,
       "nrows": 29,
       "postfix": null,
       "prefix": "model.safetensors",
       "rate": null,
       "total": 307867048,
       "unit": "B",
       "unit_divisor": 1000,
       "unit_scale": true
      },
      "application/vnd.jupyter.widget-view+json": {
       "model_id": "f1861189762540da85c92efc6149bf4b",
       "version_major": 2,
       "version_minor": 0
      },
      "text/plain": [
       "model.safetensors:   0%|          | 0.00/308M [00:00<?, ?B/s]"
      ]
     },
     "metadata": {},
     "output_type": "display_data"
    },
    {
     "data": {
      "application/json": {
       "ascii": false,
       "bar_format": null,
       "colour": null,
       "elapsed": 0.017470121383666992,
       "initial": 0,
       "n": 0,
       "ncols": null,
       "nrows": 29,
       "postfix": null,
       "prefix": "generation_config.json",
       "rate": null,
       "total": 147,
       "unit": "B",
       "unit_divisor": 1000,
       "unit_scale": true
      },
      "application/vnd.jupyter.widget-view+json": {
       "model_id": "01805ef65f3f4d48ae6874989194b8e1",
       "version_major": 2,
       "version_minor": 0
      },
      "text/plain": [
       "generation_config.json:   0%|          | 0.00/147 [00:00<?, ?B/s]"
      ]
     },
     "metadata": {},
     "output_type": "display_data"
    }
   ],
   "source": [
    "model_name = 'google/flan-t5-small'\n",
    "model = AutoModelForSeq2SeqLM.from_pretrained(model_name)"
   ]
  },
  {
   "cell_type": "markdown",
   "id": "bb720b1b",
   "metadata": {},
   "source": [
    "To perform encoding and decoding, you need to work with text in a tokenized form. Tokenization is the process of splitting texts into smaller units that can be processed by the LLM models."
   ]
  },
  {
   "cell_type": "code",
   "execution_count": 20,
   "id": "b286c807",
   "metadata": {},
   "outputs": [
    {
     "data": {
      "application/json": {
       "ascii": false,
       "bar_format": null,
       "colour": null,
       "elapsed": 0.02709674835205078,
       "initial": 0,
       "n": 0,
       "ncols": null,
       "nrows": 29,
       "postfix": null,
       "prefix": "tokenizer_config.json",
       "rate": null,
       "total": 2539,
       "unit": "B",
       "unit_divisor": 1000,
       "unit_scale": true
      },
      "application/vnd.jupyter.widget-view+json": {
       "model_id": "15ffbfd1a7d842a0812355eeac6cee3d",
       "version_major": 2,
       "version_minor": 0
      },
      "text/plain": [
       "tokenizer_config.json:   0%|          | 0.00/2.54k [00:00<?, ?B/s]"
      ]
     },
     "metadata": {},
     "output_type": "display_data"
    },
    {
     "data": {
      "application/json": {
       "ascii": false,
       "bar_format": null,
       "colour": null,
       "elapsed": 0.03284049034118652,
       "initial": 0,
       "n": 0,
       "ncols": null,
       "nrows": 29,
       "postfix": null,
       "prefix": "spiece.model",
       "rate": null,
       "total": 791656,
       "unit": "B",
       "unit_divisor": 1000,
       "unit_scale": true
      },
      "application/vnd.jupyter.widget-view+json": {
       "model_id": "65d8af567b2e46d38e7b9077a873f864",
       "version_major": 2,
       "version_minor": 0
      },
      "text/plain": [
       "spiece.model:   0%|          | 0.00/792k [00:00<?, ?B/s]"
      ]
     },
     "metadata": {},
     "output_type": "display_data"
    },
    {
     "data": {
      "application/json": {
       "ascii": false,
       "bar_format": null,
       "colour": null,
       "elapsed": 0.05666399002075195,
       "initial": 0,
       "n": 0,
       "ncols": null,
       "nrows": 29,
       "postfix": null,
       "prefix": "tokenizer.json",
       "rate": null,
       "total": 2424064,
       "unit": "B",
       "unit_divisor": 1000,
       "unit_scale": true
      },
      "application/vnd.jupyter.widget-view+json": {
       "model_id": "72845363ff5d4b6d98e0509078929251",
       "version_major": 2,
       "version_minor": 0
      },
      "text/plain": [
       "tokenizer.json:   0%|          | 0.00/2.42M [00:00<?, ?B/s]"
      ]
     },
     "metadata": {},
     "output_type": "display_data"
    },
    {
     "data": {
      "application/json": {
       "ascii": false,
       "bar_format": null,
       "colour": null,
       "elapsed": 0.02875995635986328,
       "initial": 0,
       "n": 0,
       "ncols": null,
       "nrows": 29,
       "postfix": null,
       "prefix": "special_tokens_map.json",
       "rate": null,
       "total": 2201,
       "unit": "B",
       "unit_divisor": 1000,
       "unit_scale": true
      },
      "application/vnd.jupyter.widget-view+json": {
       "model_id": "46e3749e056d4706930f01d50332cf01",
       "version_major": 2,
       "version_minor": 0
      },
      "text/plain": [
       "special_tokens_map.json:   0%|          | 0.00/2.20k [00:00<?, ?B/s]"
      ]
     },
     "metadata": {},
     "output_type": "display_data"
    }
   ],
   "source": [
    "tokenizer = AutoTokenizer.from_pretrained(model_name, use_fast=True)"
   ]
  },
  {
   "cell_type": "markdown",
   "id": "aa0f683b",
   "metadata": {},
   "source": [
    "Testing encoding and decoding"
   ]
  },
  {
   "cell_type": "code",
   "execution_count": 22,
   "id": "0a23a7b3",
   "metadata": {},
   "outputs": [
    {
     "name": "stdout",
     "output_type": "stream",
     "text": [
      "ENCODED SENTENCE:\n",
      "tensor([ 571,   33,   25, 3885,    9,   58,    1])\n",
      "\n",
      "DECODED SENTENCE:\n",
      "How are you Sona?\n"
     ]
    }
   ],
   "source": [
    "sentence = \"How are you Sona?\"\n",
    "\n",
    "sentence_encoded = tokenizer(sentence, return_tensors='pt')\n",
    "\n",
    "sentence_decoded = tokenizer.decode(\n",
    "        sentence_encoded[\"input_ids\"][0],\n",
    "        skip_special_tokens=True\n",
    "    )\n",
    "\n",
    "print('ENCODED SENTENCE:')\n",
    "print(sentence_encoded[\"input_ids\"][0])\n",
    "print('\\nDECODED SENTENCE:')\n",
    "print(sentence_decoded)"
   ]
  },
  {
   "cell_type": "markdown",
   "id": "d2770476",
   "metadata": {},
   "source": [
    "# Prompt Engineering"
   ]
  },
  {
   "cell_type": "code",
   "execution_count": 25,
   "id": "1c475efe",
   "metadata": {},
   "outputs": [
    {
     "name": "stderr",
     "output_type": "stream",
     "text": [
      "Token indices sequence length is longer than the specified maximum sequence length for this model (1158 > 512). Running this sequence through the model will result in indexing errors\n"
     ]
    },
    {
     "name": "stdout",
     "output_type": "stream",
     "text": [
      "---------------------------------------------------------------------------------------------------\n",
      "Example  1\n",
      "---------------------------------------------------------------------------------------------------\n",
      "INPUT PROMPT:\n",
      "But one nation, Russia, was missing.\n",
      "For the first time in Eurovision history, the host nation barred another country's singer.\n",
      "That is because in 2015, in violation of Ukrainian border rules, Russia's Julia Samoilova performed in Crimea, the Ukrainian peninsula annexed by Russia a year earlier.\n",
      "Samoilova suffers from a neural muscular disorder and has used a wheelchair since childhood.\n",
      "\"When the rumours began I might not go, I was so sad,\" she told the BBC in Moscow. \"I thought, how come? This was my dream. When the final decision was taken I didn't believe it. But unfortunately, this is the reality.\"\n",
      "\"I think it's a stupid reaction,\" Russian MP Vitaly Milonov tells me. \"They're even afraid of such a small girl to enter Kiev.\"\n",
      "Even before Ukraine's ban, Mr Milonov had called for a Russian boycott of Eurovision: \"Eurovision became a disgusting socialist nightmare for all these left-wing parties with all their bearded women, or men, with these anti-Christian positions.\n",
      "\"I am sure that most conservatives in the world will never attend this festival. Because this is a festival of Sodom and Gomorrah.\"\n",
      "It is supposed to be a festival of peace and friendship but there is not much sign of either in relations between Kiev and Moscow.\n",
      "In eastern Ukraine, 10,000 people have been killed in three years of war: a war in which Russia is directly involved through its military support for separatist rebels. Crimea remains a source of tension and Eurovision is the latest battleground.\n",
      "\"Since 2014, we've had a law in Ukraine that punishes people who illegally cross our border when they visit Crimea,\" says Ukrainian MP Olha Chervakova.\n",
      "\"Did Russia know this? Of course. Did Russia know that Julia Samoilova would fall foul of this law? Of course. In other words, entering her in the contest was a conscious provocation to create a huge political scandal.\"\n",
      "The ban created a huge headache for Eurovision organisers, the European Broadcasting Union (EBU).\n",
      "Eurovision's Executive Supervisor Jon Ola Sand said in March that Ukraine's decision went \"against both the spirit of the contest and the notion of inclusivity that lies at the heart of its values\".\n",
      "In an unprecedented move, the EBU offered Russia the chance to take part by satellite from Moscow.\n",
      "Russia declined: after the dramas of last year's Eurovision, Moscow was in no mood to compromise.\n",
      "Ukraine's 2016 winning entry, 1944, sung by Jamala, was about Joseph Stalin's deportation of Crimea's Tatar population.\n",
      "Russia had argued that Jamala's song broke contest rules for being of a political nature. When it won, Moscow cried foul and said there was politics at play. Now Russia seems determined to make not only Ukraine look bad, but the entire Eurovision Song Contest.\n",
      "When strangers are coming, they come to your house, they kill you and say 'we're not guilty'\n",
      "Recently, two Russian pranksters - posing as Ukraine's prime minister and his assistant - released online a telephone conversation they had recorded with a woman they claimed was EBU Director General Ingrid Deltenre.\n",
      "If this is the voice of the EBU's top official, it is hugely embarrassing for the EBU, because the woman on the recording makes an astonishing admission about Ukraine's winning song: \"I was just too late made aware of the song.\n",
      "\"If I would have been earlier, and I think it was on purpose, I would have not allowed the song to participate, to be very transparent.\"\n",
      "In a statement, the EBU said it would \"not comment on prank calls\".\n",
      "But these are high-profile Russian pranksters, who once fooled Elton John into thinking he was talking to Russian President Vladimir Putin.\n",
      "\"Now our people don't trust Eurovision any more,\" one of the pranksters, Alexei, told me. \"People understand that any country can use their political goals to win, so it's not a fair contest anymore.\"\n",
      "Perhaps this is not just about a song contest? Or Russia's relations with Ukraine?\n",
      "Equating Eurovision with Sodom and Gomorrah and embarrassing the EBU appear part of a wider pattern of Russia trying to undermine Western institutions and Western liberal ideas.\n",
      "\"Russia now defines itself in its social and societal model against the West,\" believes Jan Techau of the Richard Holbrooke Forum at the American Academy in Berlin. \"The Kremlin explicitly portrays Russian society as a counter model to the corrupted West. They seem now to buy completely into the idea that whatever harms the West is good for Russia: a classic zero-sum game.\"\n",
      "In the run-up to this year's contest, singer Jamala warned that \"we should expect more provocations [from Russia] because our victory hurt them a lot.\"\n",
      "Security in Kiev is tight ahead of the first semi-final.\n",
      "As for Julia Samoilova, instead of singing at Eurovision this week, she will be performing - once again - in Crimea. Another political message from Moscow, to Kiev and to Europe.\n",
      "---------------------------------------------------------------------------------------------------\n",
      "BASELINE HUMAN SUMMARY:\n",
      "Performers from 42 countries strode down a long red carpet near Ukraine's parliament this week, as a curtain-raiser to this year's Eurovision Song Contest.\n",
      "---------------------------------------------------------------------------------------------------\n",
      "MODEL GENERATION - WITHOUT PROMPT ENGINEERING:\n",
      "Russia has barred another country from Eurovision, a country that has been barred from singing in Crimea.\n",
      "\n",
      "---------------------------------------------------------------------------------------------------\n",
      "Example  2\n",
      "---------------------------------------------------------------------------------------------------\n",
      "INPUT PROMPT:\n",
      "The film, written by JK Rowling and starring Eddie Redmayne as Newt Scamander, took a total of £15.3m.\n",
      "It is the third highest opening weekend from the JK Rowling series, behind the two final Harry Potter films.\n",
      "Warner Bros executive Josh Berger said: \"We are thrilled with the huge response from British and Irish audiences.\"\n",
      "The film also worked its magic at North American cinemas, taking an estimated $75m (£61m) over the weekend - more than the rest of the US box office top 10 combined.\n",
      "Harry Potter creator Rowling has planned scripts for a total of five films in the series.\n",
      "The first instalment is set in New York, and tells the story of a fictional author mentioned in the Potter stories.\n",
      "Redmayne plays the part of the animal-loving magizoologist Newt Scamander, who visits New York's secret community of witches and wizards.\n",
      "The film is set 70 years before Harry Potter reads his book at his school, Hogwarts.\n",
      "It has received broadly positive reviews from critics.\n",
      "The opening weekend haul in the US and Canada was lower than for any of the Harry Potter films, however.\n",
      "Elsewhere in the box office charts, Benedict Cumberbatch's Doctor Strange fell to second with $17.7m (£14.3m), with Trolls third on $17.5m (£14.1m).\n",
      "Sci-fi movie Arrival, starring Amy Adams, took fourth spot with $11.8m (£9.5m), while the comedy Almost Christmas, starring Danny Glover and Gabrielle Union, rounded out the top five with $7m (£5.7m).\n",
      "Follow us on Facebook, on Twitter @BBCNewsEnts, or on Instagram at bbcnewsents. If you have a story suggestion email entertainment.news@bbc.co.uk.\n",
      "---------------------------------------------------------------------------------------------------\n",
      "BASELINE HUMAN SUMMARY:\n",
      "Harry Potter spin-off Fantastic Beasts and Where To Find Them has had the biggest UK box office opening weekend of the year so far.\n",
      "---------------------------------------------------------------------------------------------------\n",
      "MODEL GENERATION - WITHOUT PROMPT ENGINEERING:\n",
      "The first instalment of the Harry Potter series has been announced by Warner Bros.\n",
      "\n"
     ]
    }
   ],
   "source": [
    "for i, index in enumerate(example_indices):\n",
    "    document = ds['test'][index]['document']\n",
    "    summary = ds['test'][index]['summary']\n",
    "\n",
    "    inputs = tokenizer(document, return_tensors='pt')\n",
    "    output = tokenizer.decode(\n",
    "        model.generate(\n",
    "            inputs[\"input_ids\"],\n",
    "            max_new_tokens=50,\n",
    "        )[0],\n",
    "        skip_special_tokens=True\n",
    "    )\n",
    "\n",
    "    print(dash_line)\n",
    "    print('Example ', i + 1)\n",
    "    print(dash_line)\n",
    "    print(f'INPUT PROMPT:\\n{document}')\n",
    "    print(dash_line)\n",
    "    print(f'BASELINE HUMAN SUMMARY:\\n{summary}')\n",
    "    print(dash_line)\n",
    "    print(f'MODEL GENERATION - WITHOUT PROMPT ENGINEERING:\\n{output}\\n')"
   ]
  },
  {
   "cell_type": "markdown",
   "id": "e3ca8a6b",
   "metadata": {},
   "source": [
    "The output is somewhat relevant to the human summary. But could be improved using one-shot or few shot learning"
   ]
  },
  {
   "cell_type": "markdown",
   "id": "e3ad54db",
   "metadata": {},
   "source": [
    "## One-shot Inference"
   ]
  },
  {
   "cell_type": "code",
   "execution_count": 28,
   "id": "1c039d94",
   "metadata": {},
   "outputs": [],
   "source": [
    "def make_prompt(example_indices_full, example_index_to_summarize):\n",
    "    prompt = ''\n",
    "    for index in example_indices_full:\n",
    "        document = ds['test'][index]['document']\n",
    "        summary = ds['test'][index]['summary']\n",
    "\n",
    "        # The stop sequence '{summary}\\n\\n\\n' is important for FLAN-T5. Other models may have their own preferred stop sequence.\n",
    "        prompt += f\"\"\"\n",
    "document:\n",
    "\n",
    "{document}\n",
    "\n",
    "What was going on?\n",
    "{summary}\n",
    "\n",
    "\n",
    "\"\"\"\n",
    "\n",
    "    document = ds['test'][example_index_to_summarize]['document']\n",
    "\n",
    "    prompt += f\"\"\"\n",
    "document:\n",
    "\n",
    "{document}\n",
    "\n",
    "What was going on?\n",
    "\"\"\"\n",
    "\n",
    "    return prompt   "
   ]
  },
  {
   "cell_type": "code",
   "execution_count": 29,
   "id": "38b8cf68",
   "metadata": {},
   "outputs": [
    {
     "name": "stdout",
     "output_type": "stream",
     "text": [
      "\n",
      "document:\n",
      "\n",
      "But one nation, Russia, was missing.\n",
      "For the first time in Eurovision history, the host nation barred another country's singer.\n",
      "That is because in 2015, in violation of Ukrainian border rules, Russia's Julia Samoilova performed in Crimea, the Ukrainian peninsula annexed by Russia a year earlier.\n",
      "Samoilova suffers from a neural muscular disorder and has used a wheelchair since childhood.\n",
      "\"When the rumours began I might not go, I was so sad,\" she told the BBC in Moscow. \"I thought, how come? This was my dream. When the final decision was taken I didn't believe it. But unfortunately, this is the reality.\"\n",
      "\"I think it's a stupid reaction,\" Russian MP Vitaly Milonov tells me. \"They're even afraid of such a small girl to enter Kiev.\"\n",
      "Even before Ukraine's ban, Mr Milonov had called for a Russian boycott of Eurovision: \"Eurovision became a disgusting socialist nightmare for all these left-wing parties with all their bearded women, or men, with these anti-Christian positions.\n",
      "\"I am sure that most conservatives in the world will never attend this festival. Because this is a festival of Sodom and Gomorrah.\"\n",
      "It is supposed to be a festival of peace and friendship but there is not much sign of either in relations between Kiev and Moscow.\n",
      "In eastern Ukraine, 10,000 people have been killed in three years of war: a war in which Russia is directly involved through its military support for separatist rebels. Crimea remains a source of tension and Eurovision is the latest battleground.\n",
      "\"Since 2014, we've had a law in Ukraine that punishes people who illegally cross our border when they visit Crimea,\" says Ukrainian MP Olha Chervakova.\n",
      "\"Did Russia know this? Of course. Did Russia know that Julia Samoilova would fall foul of this law? Of course. In other words, entering her in the contest was a conscious provocation to create a huge political scandal.\"\n",
      "The ban created a huge headache for Eurovision organisers, the European Broadcasting Union (EBU).\n",
      "Eurovision's Executive Supervisor Jon Ola Sand said in March that Ukraine's decision went \"against both the spirit of the contest and the notion of inclusivity that lies at the heart of its values\".\n",
      "In an unprecedented move, the EBU offered Russia the chance to take part by satellite from Moscow.\n",
      "Russia declined: after the dramas of last year's Eurovision, Moscow was in no mood to compromise.\n",
      "Ukraine's 2016 winning entry, 1944, sung by Jamala, was about Joseph Stalin's deportation of Crimea's Tatar population.\n",
      "Russia had argued that Jamala's song broke contest rules for being of a political nature. When it won, Moscow cried foul and said there was politics at play. Now Russia seems determined to make not only Ukraine look bad, but the entire Eurovision Song Contest.\n",
      "When strangers are coming, they come to your house, they kill you and say 'we're not guilty'\n",
      "Recently, two Russian pranksters - posing as Ukraine's prime minister and his assistant - released online a telephone conversation they had recorded with a woman they claimed was EBU Director General Ingrid Deltenre.\n",
      "If this is the voice of the EBU's top official, it is hugely embarrassing for the EBU, because the woman on the recording makes an astonishing admission about Ukraine's winning song: \"I was just too late made aware of the song.\n",
      "\"If I would have been earlier, and I think it was on purpose, I would have not allowed the song to participate, to be very transparent.\"\n",
      "In a statement, the EBU said it would \"not comment on prank calls\".\n",
      "But these are high-profile Russian pranksters, who once fooled Elton John into thinking he was talking to Russian President Vladimir Putin.\n",
      "\"Now our people don't trust Eurovision any more,\" one of the pranksters, Alexei, told me. \"People understand that any country can use their political goals to win, so it's not a fair contest anymore.\"\n",
      "Perhaps this is not just about a song contest? Or Russia's relations with Ukraine?\n",
      "Equating Eurovision with Sodom and Gomorrah and embarrassing the EBU appear part of a wider pattern of Russia trying to undermine Western institutions and Western liberal ideas.\n",
      "\"Russia now defines itself in its social and societal model against the West,\" believes Jan Techau of the Richard Holbrooke Forum at the American Academy in Berlin. \"The Kremlin explicitly portrays Russian society as a counter model to the corrupted West. They seem now to buy completely into the idea that whatever harms the West is good for Russia: a classic zero-sum game.\"\n",
      "In the run-up to this year's contest, singer Jamala warned that \"we should expect more provocations [from Russia] because our victory hurt them a lot.\"\n",
      "Security in Kiev is tight ahead of the first semi-final.\n",
      "As for Julia Samoilova, instead of singing at Eurovision this week, she will be performing - once again - in Crimea. Another political message from Moscow, to Kiev and to Europe.\n",
      "\n",
      "What was going on?\n",
      "Performers from 42 countries strode down a long red carpet near Ukraine's parliament this week, as a curtain-raiser to this year's Eurovision Song Contest.\n",
      "\n",
      "\n",
      "\n",
      "document:\n",
      "\n",
      "The film, written by JK Rowling and starring Eddie Redmayne as Newt Scamander, took a total of £15.3m.\n",
      "It is the third highest opening weekend from the JK Rowling series, behind the two final Harry Potter films.\n",
      "Warner Bros executive Josh Berger said: \"We are thrilled with the huge response from British and Irish audiences.\"\n",
      "The film also worked its magic at North American cinemas, taking an estimated $75m (£61m) over the weekend - more than the rest of the US box office top 10 combined.\n",
      "Harry Potter creator Rowling has planned scripts for a total of five films in the series.\n",
      "The first instalment is set in New York, and tells the story of a fictional author mentioned in the Potter stories.\n",
      "Redmayne plays the part of the animal-loving magizoologist Newt Scamander, who visits New York's secret community of witches and wizards.\n",
      "The film is set 70 years before Harry Potter reads his book at his school, Hogwarts.\n",
      "It has received broadly positive reviews from critics.\n",
      "The opening weekend haul in the US and Canada was lower than for any of the Harry Potter films, however.\n",
      "Elsewhere in the box office charts, Benedict Cumberbatch's Doctor Strange fell to second with $17.7m (£14.3m), with Trolls third on $17.5m (£14.1m).\n",
      "Sci-fi movie Arrival, starring Amy Adams, took fourth spot with $11.8m (£9.5m), while the comedy Almost Christmas, starring Danny Glover and Gabrielle Union, rounded out the top five with $7m (£5.7m).\n",
      "Follow us on Facebook, on Twitter @BBCNewsEnts, or on Instagram at bbcnewsents. If you have a story suggestion email entertainment.news@bbc.co.uk.\n",
      "\n",
      "What was going on?\n",
      "\n"
     ]
    }
   ],
   "source": [
    "example_indices_full = [40]\n",
    "example_index_to_summarize = 200\n",
    "\n",
    "one_shot_prompt = make_prompt(example_indices_full, example_index_to_summarize)\n",
    "\n",
    "print(one_shot_prompt)"
   ]
  },
  {
   "cell_type": "code",
   "execution_count": 30,
   "id": "7b907ea4",
   "metadata": {},
   "outputs": [
    {
     "name": "stdout",
     "output_type": "stream",
     "text": [
      "---------------------------------------------------------------------------------------------------\n",
      "BASELINE HUMAN SUMMARY:\n",
      "Harry Potter spin-off Fantastic Beasts and Where To Find Them has had the biggest UK box office opening weekend of the year so far.\n",
      "\n",
      "---------------------------------------------------------------------------------------------------\n",
      "MODEL GENERATION - ONE SHOT:\n",
      "The opening weekend of Harry Potter's first instalment has been the highest opening weekend in the US and Canada, with the opening weekend haul in the US and Canada.\n"
     ]
    }
   ],
   "source": [
    "summary = ds['test'][example_index_to_summarize]['summary']\n",
    "\n",
    "inputs = tokenizer(one_shot_prompt, return_tensors='pt')\n",
    "output = tokenizer.decode(\n",
    "    model.generate(\n",
    "        inputs[\"input_ids\"],\n",
    "        max_new_tokens=50,\n",
    "    )[0],\n",
    "    skip_special_tokens=True\n",
    ")\n",
    "\n",
    "print(dash_line)\n",
    "print(f'BASELINE HUMAN SUMMARY:\\n{summary}\\n')\n",
    "print(dash_line)\n",
    "print(f'MODEL GENERATION - ONE SHOT:\\n{output}')"
   ]
  },
  {
   "cell_type": "markdown",
   "id": "95b276e0",
   "metadata": {},
   "source": [
    "## Few shot"
   ]
  },
  {
   "cell_type": "code",
   "execution_count": 31,
   "id": "f528fffa",
   "metadata": {},
   "outputs": [
    {
     "name": "stdout",
     "output_type": "stream",
     "text": [
      "\n",
      "document:\n",
      "\n",
      "But one nation, Russia, was missing.\n",
      "For the first time in Eurovision history, the host nation barred another country's singer.\n",
      "That is because in 2015, in violation of Ukrainian border rules, Russia's Julia Samoilova performed in Crimea, the Ukrainian peninsula annexed by Russia a year earlier.\n",
      "Samoilova suffers from a neural muscular disorder and has used a wheelchair since childhood.\n",
      "\"When the rumours began I might not go, I was so sad,\" she told the BBC in Moscow. \"I thought, how come? This was my dream. When the final decision was taken I didn't believe it. But unfortunately, this is the reality.\"\n",
      "\"I think it's a stupid reaction,\" Russian MP Vitaly Milonov tells me. \"They're even afraid of such a small girl to enter Kiev.\"\n",
      "Even before Ukraine's ban, Mr Milonov had called for a Russian boycott of Eurovision: \"Eurovision became a disgusting socialist nightmare for all these left-wing parties with all their bearded women, or men, with these anti-Christian positions.\n",
      "\"I am sure that most conservatives in the world will never attend this festival. Because this is a festival of Sodom and Gomorrah.\"\n",
      "It is supposed to be a festival of peace and friendship but there is not much sign of either in relations between Kiev and Moscow.\n",
      "In eastern Ukraine, 10,000 people have been killed in three years of war: a war in which Russia is directly involved through its military support for separatist rebels. Crimea remains a source of tension and Eurovision is the latest battleground.\n",
      "\"Since 2014, we've had a law in Ukraine that punishes people who illegally cross our border when they visit Crimea,\" says Ukrainian MP Olha Chervakova.\n",
      "\"Did Russia know this? Of course. Did Russia know that Julia Samoilova would fall foul of this law? Of course. In other words, entering her in the contest was a conscious provocation to create a huge political scandal.\"\n",
      "The ban created a huge headache for Eurovision organisers, the European Broadcasting Union (EBU).\n",
      "Eurovision's Executive Supervisor Jon Ola Sand said in March that Ukraine's decision went \"against both the spirit of the contest and the notion of inclusivity that lies at the heart of its values\".\n",
      "In an unprecedented move, the EBU offered Russia the chance to take part by satellite from Moscow.\n",
      "Russia declined: after the dramas of last year's Eurovision, Moscow was in no mood to compromise.\n",
      "Ukraine's 2016 winning entry, 1944, sung by Jamala, was about Joseph Stalin's deportation of Crimea's Tatar population.\n",
      "Russia had argued that Jamala's song broke contest rules for being of a political nature. When it won, Moscow cried foul and said there was politics at play. Now Russia seems determined to make not only Ukraine look bad, but the entire Eurovision Song Contest.\n",
      "When strangers are coming, they come to your house, they kill you and say 'we're not guilty'\n",
      "Recently, two Russian pranksters - posing as Ukraine's prime minister and his assistant - released online a telephone conversation they had recorded with a woman they claimed was EBU Director General Ingrid Deltenre.\n",
      "If this is the voice of the EBU's top official, it is hugely embarrassing for the EBU, because the woman on the recording makes an astonishing admission about Ukraine's winning song: \"I was just too late made aware of the song.\n",
      "\"If I would have been earlier, and I think it was on purpose, I would have not allowed the song to participate, to be very transparent.\"\n",
      "In a statement, the EBU said it would \"not comment on prank calls\".\n",
      "But these are high-profile Russian pranksters, who once fooled Elton John into thinking he was talking to Russian President Vladimir Putin.\n",
      "\"Now our people don't trust Eurovision any more,\" one of the pranksters, Alexei, told me. \"People understand that any country can use their political goals to win, so it's not a fair contest anymore.\"\n",
      "Perhaps this is not just about a song contest? Or Russia's relations with Ukraine?\n",
      "Equating Eurovision with Sodom and Gomorrah and embarrassing the EBU appear part of a wider pattern of Russia trying to undermine Western institutions and Western liberal ideas.\n",
      "\"Russia now defines itself in its social and societal model against the West,\" believes Jan Techau of the Richard Holbrooke Forum at the American Academy in Berlin. \"The Kremlin explicitly portrays Russian society as a counter model to the corrupted West. They seem now to buy completely into the idea that whatever harms the West is good for Russia: a classic zero-sum game.\"\n",
      "In the run-up to this year's contest, singer Jamala warned that \"we should expect more provocations [from Russia] because our victory hurt them a lot.\"\n",
      "Security in Kiev is tight ahead of the first semi-final.\n",
      "As for Julia Samoilova, instead of singing at Eurovision this week, she will be performing - once again - in Crimea. Another political message from Moscow, to Kiev and to Europe.\n",
      "\n",
      "What was going on?\n",
      "Performers from 42 countries strode down a long red carpet near Ukraine's parliament this week, as a curtain-raiser to this year's Eurovision Song Contest.\n",
      "\n",
      "\n",
      "\n",
      "document:\n",
      "\n",
      "The third seed, who received a bye in the first round, beat the American wildcard 6-3 6-1 in just over an hour.\n",
      "Konta, the world number 18, hit 11 aces on her way to a comfortable victory.\n",
      "The 25-year-old will play China's Saisai Zheng, who beat Alize Cornet in her second-round match, in the last eight on Friday.\n",
      "\n",
      "What was going on?\n",
      "British number one Johanna Konta reached the quarter-finals of the Bank of the West Classic in Stanford with a straight-set win over Julia Boserup.\n",
      "\n",
      "\n",
      "\n",
      "document:\n",
      "\n",
      "The incident happened near Corbett Place and Calais View at about 08:30 on Thursday.\n",
      "Officers are now urging anyone who saw the man to get in touch.\n",
      "He is described as being in his late teens or early 20s with dark, curly, short hair. He is about 5ft 9in and was wearing a dark top.\n",
      "\n",
      "What was going on?\n",
      "Police in Fife are searching for a man who was seen exposing himself in Dunfermline.\n",
      "\n",
      "\n",
      "\n",
      "document:\n",
      "\n",
      "The film, written by JK Rowling and starring Eddie Redmayne as Newt Scamander, took a total of £15.3m.\n",
      "It is the third highest opening weekend from the JK Rowling series, behind the two final Harry Potter films.\n",
      "Warner Bros executive Josh Berger said: \"We are thrilled with the huge response from British and Irish audiences.\"\n",
      "The film also worked its magic at North American cinemas, taking an estimated $75m (£61m) over the weekend - more than the rest of the US box office top 10 combined.\n",
      "Harry Potter creator Rowling has planned scripts for a total of five films in the series.\n",
      "The first instalment is set in New York, and tells the story of a fictional author mentioned in the Potter stories.\n",
      "Redmayne plays the part of the animal-loving magizoologist Newt Scamander, who visits New York's secret community of witches and wizards.\n",
      "The film is set 70 years before Harry Potter reads his book at his school, Hogwarts.\n",
      "It has received broadly positive reviews from critics.\n",
      "The opening weekend haul in the US and Canada was lower than for any of the Harry Potter films, however.\n",
      "Elsewhere in the box office charts, Benedict Cumberbatch's Doctor Strange fell to second with $17.7m (£14.3m), with Trolls third on $17.5m (£14.1m).\n",
      "Sci-fi movie Arrival, starring Amy Adams, took fourth spot with $11.8m (£9.5m), while the comedy Almost Christmas, starring Danny Glover and Gabrielle Union, rounded out the top five with $7m (£5.7m).\n",
      "Follow us on Facebook, on Twitter @BBCNewsEnts, or on Instagram at bbcnewsents. If you have a story suggestion email entertainment.news@bbc.co.uk.\n",
      "\n",
      "What was going on?\n",
      "\n"
     ]
    }
   ],
   "source": [
    "example_indices_full = [40, 80, 120]\n",
    "example_index_to_summarize = 200\n",
    "\n",
    "few_shot_prompt = make_prompt(example_indices_full, example_index_to_summarize)\n",
    "\n",
    "print(few_shot_prompt)"
   ]
  },
  {
   "cell_type": "code",
   "execution_count": 37,
   "id": "dead96be",
   "metadata": {},
   "outputs": [
    {
     "name": "stdout",
     "output_type": "stream",
     "text": [
      "---------------------------------------------------------------------------------------------------\n",
      "MODEL GENERATION - FEW SHOT:\n",
      "The opening weekend of Harry Potter film has stalled after a massive $3.6mm (£33.9m) box office run.ss, The Stars and Clash are the best film of 2011. to take\n",
      "---------------------------------------------------------------------------------------------------\n",
      "BASELINE HUMAN SUMMARY:\n",
      "Harry Potter spin-off Fantastic Beasts and Where To Find Them has had the biggest UK box office opening weekend of the year so far.\n",
      "\n"
     ]
    }
   ],
   "source": [
    "# generation_config = GenerationConfig(max_new_tokens=50)\n",
    "# generation_config = GenerationConfig(max_new_tokens=10)\n",
    "generation_config = GenerationConfig(max_new_tokens=50, do_sample=True, temperature=0.1)\n",
    "# generation_config = GenerationConfig(max_new_tokens=50, do_sample=True, temperature=0.5)\n",
    "# generation_config = GenerationConfig(max_new_tokens=50, do_sample=True, temperature=1.0)\n",
    "\n",
    "inputs = tokenizer(few_shot_prompt, return_tensors='pt')\n",
    "output = tokenizer.decode(\n",
    "    model.generate(\n",
    "        inputs[\"input_ids\"],\n",
    "        generation_config=generation_config,\n",
    "    )[0],\n",
    "    skip_special_tokens=True\n",
    ")\n",
    "\n",
    "print(dash_line)\n",
    "print(f'MODEL GENERATION - FEW SHOT:\\n{output}')\n",
    "print(dash_line)\n",
    "print(f'BASELINE HUMAN SUMMARY:\\n{summary}\\n')"
   ]
  },
  {
   "cell_type": "markdown",
   "id": "de23adac",
   "metadata": {},
   "source": [
    "The few shot inference did not provide much improvement. Anything above 5 or 6 shots is not efficient. Instead we can fine tune the model"
   ]
  },
  {
   "cell_type": "code",
   "execution_count": null,
   "id": "02c3129c",
   "metadata": {},
   "outputs": [],
   "source": []
  }
 ],
 "metadata": {
  "kernelspec": {
   "display_name": "Python 3 (ipykernel)",
   "language": "python",
   "name": "python3"
  },
  "language_info": {
   "codemirror_mode": {
    "name": "ipython",
    "version": 3
   },
   "file_extension": ".py",
   "mimetype": "text/x-python",
   "name": "python",
   "nbconvert_exporter": "python",
   "pygments_lexer": "ipython3",
   "version": "3.9.6"
  }
 },
 "nbformat": 4,
 "nbformat_minor": 5
}
